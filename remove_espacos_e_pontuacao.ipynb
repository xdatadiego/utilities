{
 "cells": [
  {
   "cell_type": "code",
   "execution_count": 5,
   "metadata": {},
   "outputs": [
    {
     "name": "stdout",
     "output_type": "stream",
     "text": [
      "Requirement already satisfied: unidecode in ./.venv/lib64/python3.12/site-packages (1.3.8)\n",
      "\n",
      "\u001b[1m[\u001b[0m\u001b[34;49mnotice\u001b[0m\u001b[1;39;49m]\u001b[0m\u001b[39;49m A new release of pip is available: \u001b[0m\u001b[31;49m23.3.2\u001b[0m\u001b[39;49m -> \u001b[0m\u001b[32;49m24.1.1\u001b[0m\n",
      "\u001b[1m[\u001b[0m\u001b[34;49mnotice\u001b[0m\u001b[1;39;49m]\u001b[0m\u001b[39;49m To update, run: \u001b[0m\u001b[32;49mpip install --upgrade pip\u001b[0m\n",
      "Note: you may need to restart the kernel to use updated packages.\n"
     ]
    }
   ],
   "source": [
    "%pip install unidecode"
   ]
  },
  {
   "cell_type": "code",
   "execution_count": 6,
   "metadata": {},
   "outputs": [],
   "source": [
    "import re\n",
    "import string\n",
    "from unidecode import unidecode\n",
    "\n",
    "def remove_espacos_e_pontuacao(texto):\n",
    "    # Remove acentuação\n",
    "    texto_sem_acentuacao = unidecode(texto)\n",
    "    \n",
    "    # Define a regex pattern para caracteres de pontuação, exceto o underline\n",
    "    padrao = f\"[{re.escape(string.punctuation).replace('_', '')}]\"\n",
    "    \n",
    "    # Remove caracteres de pontuação\n",
    "    texto_sem_pontuacao = re.sub(padrao, '', texto_sem_acentuacao)\n",
    "    \n",
    "    # Substitui espaços por underscore\n",
    "    texto_com_underscore = texto_sem_pontuacao.replace(' ', '_')\n",
    "    \n",
    "    return texto_com_underscore\n",
    "\n",
    "# # Exemplo de uso\n",
    "# texto = \"Olá, mundo! Este é um teste: acentuação, espaços e pontuação.\"\n",
    "# resultado = remove_espacos_e_pontuacao(texto)\n",
    "# print(resultado)  # Output: Ola_mundo_Este_e_um_teste_acentuacao_espacos_e_pontuacao\n"
   ]
  },
  {
   "cell_type": "markdown",
   "metadata": {},
   "source": [
    "# Exemplo de uso\n",
    "texto = \"Olá, mundo! Este é um teste: vamos remover toda a pontuação, exceto_essa...\"\n",
    "texto_modificado = remove_punctuation_and_replace_spaces(texto)\n",
    "print(texto_modificado)  # Saída: Olá_mundo_Este_é_um_teste_vamos_remover_toda_a_pontuação_exceto_essa\n"
   ]
  },
  {
   "cell_type": "code",
   "execution_count": 7,
   "metadata": {},
   "outputs": [],
   "source": [
    "texto = \"1 2 teste s\""
   ]
  },
  {
   "cell_type": "code",
   "execution_count": 8,
   "metadata": {},
   "outputs": [
    {
     "data": {
      "text/plain": [
       "'1_2_Teste_S'"
      ]
     },
     "execution_count": 8,
     "metadata": {},
     "output_type": "execute_result"
    }
   ],
   "source": [
    "remove_espacos_e_pontuacao(texto).title()"
   ]
  }
 ],
 "metadata": {
  "kernelspec": {
   "display_name": "Python 3 (ipykernel)",
   "language": "python",
   "name": "python3"
  },
  "language_info": {
   "codemirror_mode": {
    "name": "ipython",
    "version": 3
   },
   "file_extension": ".py",
   "mimetype": "text/x-python",
   "name": "python",
   "nbconvert_exporter": "python",
   "pygments_lexer": "ipython3",
   "version": "3.12.3"
  }
 },
 "nbformat": 4,
 "nbformat_minor": 4
}
